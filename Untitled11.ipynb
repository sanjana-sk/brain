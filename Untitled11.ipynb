{
  "nbformat": 4,
  "nbformat_minor": 0,
  "metadata": {
    "colab": {
      "name": "Untitled11.ipynb",
      "provenance": []
    },
    "kernelspec": {
      "name": "python3",
      "display_name": "Python 3"
    }
  },
  "cells": [
    {
      "cell_type": "code",
      "metadata": {
        "id": "5QnNZ30ulrRq"
      },
      "source": [
        ""
      ],
      "execution_count": null,
      "outputs": []
    },
    {
      "cell_type": "code",
      "metadata": {
        "id": "HCiIlhsUlsS4"
      },
      "source": [
        "\r\n",
        "DATA= '/content/drive/MyDrive/Brats'\r\n",
        "#VALIDATION_DATA = '/naomi/DATA/MICCAI_BraTS_2019_Data_Validation/'\r\n",
        "DATA_HGG = '/content/drive/MyDrive/Brats/HGG'\r\n",
        "#DATA_LGG = DATA + 'LGG/'\r\n",
        "\r\n",
        "NUMPY_DIR = '/content/drive/MyDrive/Brats/name_mapping.csv'\r\n",
        "#VALIDATION_NUMPY_DIR = '/naomi/DATA/MICCAI_BraTS_2019_Data_Validation/numpy_images/'\r\n",
        "FLAIR = 'flair'\r\n",
        "T1 = 't1'\r\n",
        "T2 = 't2'\r\n",
        "T1CE = 't1ce'"
      ],
      "execution_count": null,
      "outputs": []
    },
    {
      "cell_type": "code",
      "metadata": {
        "id": "t6WLKxl1nWGC"
      },
      "source": [
        "img_type=['FLAIR', 'T1','T1CE', 'T2']"
      ],
      "execution_count": null,
      "outputs": []
    },
    {
      "cell_type": "code",
      "metadata": {
        "colab": {
          "base_uri": "https://localhost:8080/"
        },
        "id": "7u7MAQZsndTz",
        "outputId": "2fe27a00-a529-429b-be50-0bf9f0e4c581"
      },
      "source": [
        "pip install simpleITK"
      ],
      "execution_count": null,
      "outputs": [
        {
          "output_type": "stream",
          "text": [
            "Requirement already satisfied: simpleITK in /usr/local/lib/python3.6/dist-packages (2.0.2)\n"
          ],
          "name": "stdout"
        }
      ]
    },
    {
      "cell_type": "code",
      "metadata": {
        "id": "VTr4VoNLnXl-"
      },
      "source": [
        "import os, sys, glob\r\n",
        "import numpy as np\r\n",
        "import SimpleITK as sitk\r\n",
        "import sys\r\n",
        "import os\r\n",
        "import pandas as pd\r\n",
        "import re\r\n",
        "import matplotlib.pyplot as plt\r\n",
        "import matplotlib.gridspec as gridspec\r\n",
        "from sklearn.utils import shuffle\r\n",
        "%matplotlib inline"
      ],
      "execution_count": null,
      "outputs": []
    },
    {
      "cell_type": "code",
      "metadata": {
        "id": "ezKQN9zAnpfF"
      },
      "source": [
        "import pandas as pd\r\n",
        "import numpy as np"
      ],
      "execution_count": null,
      "outputs": []
    },
    {
      "cell_type": "code",
      "metadata": {
        "id": "jPS8VXKJnrqE"
      },
      "source": [
        "from skimage.util.dtype import dtype_range\r\n",
        "from skimage.util import img_as_ubyte\r\n",
        "from skimage import exposure\r\n",
        "from skimage.morphology import disk\r\n",
        "from skimage.filters import rank\r\n",
        "from scipy.ndimage import gaussian_filter\r\n",
        "from skimage import data\r\n",
        "from skimage import img_as_float\r\n",
        "from skimage.morphology import reconstruction\r\n",
        "from scipy import ndimage\r\n",
        "import random"
      ],
      "execution_count": null,
      "outputs": []
    },
    {
      "cell_type": "code",
      "metadata": {
        "id": "YUe651pBnxFs"
      },
      "source": [
        "red_multiplier = [1, 0.2, 0.2]\r\n",
        "green_multiplier = [0.35,0.75,0.25]\r\n",
        "blue_multiplier = [0,0.5,1.]#[0,0.25,0.9]\r\n",
        "yellow_multiplier = [1,1,0.25]\r\n",
        "brown_miltiplier = [40./255, 26./255, 13./255]\r\n",
        "my_colors=[blue_multiplier, yellow_multiplier, brown_miltiplier]"
      ],
      "execution_count": null,
      "outputs": []
    },
    {
      "cell_type": "code",
      "metadata": {
        "id": "v06e_4RzpBcz"
      },
      "source": [
        "\r\n",
        "def show_img_lable(img, lbl, modality = 0):\r\n",
        "    \r\n",
        "    if (len(lbl.shape)> 2):\r\n",
        "        lbl[0,0,3]=1 # for uniqe colors in plot\r\n",
        "        lbl = lbl_from_cat(lbl)\r\n",
        "    vu.show_n_images([img[:,:,modality],lbl, show_lable_on_image4(img[:,:,modality],lbl)],\r\n",
        "                    titles = [img_type[modality], 'Label', 'Label on '+ img_type[modality]]);"
      ],
      "execution_count": null,
      "outputs": []
    },
    {
      "cell_type": "code",
      "metadata": {
        "id": "JeFmSRDGpN2i"
      },
      "source": [
        "def read_img_sitk(img):\r\n",
        "    inputImage = sitk.ReadImage( img )\r\n",
        "    inputImage = sitk.Cast( inputImage, sitk.sitkFloat32 )\r\n",
        "    image = sitk.GetArrayFromImage(inputImage)\r\n",
        "    return image"
      ],
      "execution_count": null,
      "outputs": []
    },
    {
      "cell_type": "code",
      "metadata": {
        "id": "-09XJlkqpT2x"
      },
      "source": [
        "def read_image_into_numpy(dirpath):\r\n",
        "    \r\n",
        "    img_id = os.path.basename(dirpath)\r\n",
        "    np_image=np.zeros((4, 155, 240, 240), dtype=np.float32)\r\n",
        "    \r\n",
        "    ## Flair\r\n",
        "    flair_img = os.path.join(dirpath, img_id+'_flair.nii.gz')\r\n",
        "    if (not os.path.isfile(flair_img)):\r\n",
        "        print(flair_img,' not found aborting')\r\n",
        "        return None\r\n",
        "    np_image[0] = read_img_sitk(flair_img)\r\n",
        "        \r\n",
        "    ## T1\r\n",
        "    t1_nb4_img = os.path.join(dirpath, img_id+'_t1_nb4.nii.gz')\r\n",
        "    if (not os.path.isfile(t1_nb4_img)):\r\n",
        "        #print(t1_nb4_img,' not found')\r\n",
        "        t1_img = os.path.join(dirpath, img_id+'_t1.nii.gz')\r\n",
        "        if (not os.path.isfile(t1_img)):\r\n",
        "            print(t1_img,' not found aborting')\r\n",
        "            return None\r\n",
        "        np_image[1] = read_img_sitk(t1_img)\r\n",
        "    else:\r\n",
        "        np_image[1] = read_img_sitk(t1_nb4_img)    \r\n",
        "            \r\n",
        "    ## T1CE\r\n",
        "    t1ce_nb4_img = os.path.join(dirpath, img_id+'_t1ce_nb4.nii.gz')\r\n",
        "    if (not os.path.isfile(t1ce_nb4_img)):\r\n",
        "        #print(t1ce_nb4_img,' not found')\r\n",
        "        t1ce_img = os.path.join(dirpath, img_id+'_t1ce.nii.gz')\r\n",
        "        if (not os.path.isfile(t1ce_img)):\r\n",
        "            print(t1ce_img,' not found aborting')\r\n",
        "            return None\r\n",
        "        np_image[2] = read_img_sitk(t1ce_img)\r\n",
        "    else:\r\n",
        "        np_image[2] = read_img_sitk(t1ce_nb4_img)    \r\n",
        "    \r\n",
        "        \r\n",
        "    ## T2\r\n",
        "    t2_img = os.path.join(dirpath, img_id+'_t2.nii.gz')\r\n",
        "    if (not os.path.isfile(t2_img)):\r\n",
        "        print(t2_img,' not found aborting')\r\n",
        "        return None\r\n",
        "    np_image[3] = read_img_sitk(t2_img)\r\n",
        "\r\n",
        "    return np_image"
      ],
      "execution_count": null,
      "outputs": []
    },
    {
      "cell_type": "code",
      "metadata": {
        "id": "CGA9jmirpZZP"
      },
      "source": [
        "def read_lable_into_numpy(dirpath):\r\n",
        "    \r\n",
        "    img_id = os.path.basename(dirpath)\r\n",
        "    np_image=np.zeros((155, 240, 240), dtype=np.int)\r\n",
        "    \r\n",
        "    ## lable\r\n",
        "    lable_img = os.path.join(dirpath, img_id+'_seg.nii.gz')\r\n",
        "    if (not os.path.isfile(lable_img)):\r\n",
        "        print(lable_img,' not found aborting')\r\n",
        "        return None\r\n",
        "    np_image = read_img_sitk(lable_img).astype(int)\r\n",
        "\r\n",
        "    return np_image"
      ],
      "execution_count": null,
      "outputs": []
    },
    {
      "cell_type": "code",
      "metadata": {
        "id": "rJXZAjk6pfVS"
      },
      "source": [
        "hgg_paths = []\r\n",
        "for dirpath, dirnames, files in os.walk(DATA_HGG):\r\n",
        "    if ('BraTS19' in dirpath):\r\n",
        "        hgg_paths.append(dirpath)\r\n"
      ],
      "execution_count": null,
      "outputs": []
    },
    {
      "cell_type": "code",
      "metadata": {
        "colab": {
          "base_uri": "https://localhost:8080/"
        },
        "id": "vr1oLRDGpliQ",
        "outputId": "f2b6e459-0bf5-4d37-83f9-0fc6db015141"
      },
      "source": [
        "len(hgg_paths)"
      ],
      "execution_count": null,
      "outputs": [
        {
          "output_type": "execute_result",
          "data": {
            "text/plain": [
              "259"
            ]
          },
          "metadata": {
            "tags": []
          },
          "execution_count": 13
        }
      ]
    },
    {
      "cell_type": "code",
      "metadata": {
        "id": "zu6QsMv3pvOP"
      },
      "source": [
        "\r\n",
        "def bbox2_3D(img):\r\n",
        "\r\n",
        "    r = np.any(img, axis=(1, 2))\r\n",
        "    c = np.any(img, axis=(0, 2))\r\n",
        "    z = np.any(img, axis=(0, 1))\r\n",
        "\r\n",
        "    rmin, rmax = np.where(r)[0][[0, -1]]\r\n",
        "    cmin, cmax = np.where(c)[0][[0, -1]]\r\n",
        "    zmin, zmax = np.where(z)[0][[0, -1]]\r\n",
        "\r\n",
        "    return [rmin, rmax, cmin, cmax, zmin, zmax]"
      ],
      "execution_count": null,
      "outputs": []
    },
    {
      "cell_type": "code",
      "metadata": {
        "id": "KCJOX52nqMAN"
      },
      "source": [
        "\r\n",
        "np_img = read_image_into_numpy('/content/drive/MyDrive/Brats/HGG/BraTS19_2013_10_1')"
      ],
      "execution_count": null,
      "outputs": []
    },
    {
      "cell_type": "code",
      "metadata": {
        "colab": {
          "base_uri": "https://localhost:8080/",
          "height": 1000
        },
        "id": "v6J4qHHcDiDp",
        "outputId": "61655a67-523d-473f-c682-421649fad4e3"
      },
      "source": [
        "pip install visualization"
      ],
      "execution_count": null,
      "outputs": [
        {
          "output_type": "stream",
          "text": [
            "Collecting visualization\n",
            "  Downloading https://files.pythonhosted.org/packages/d6/e9/65f4057f914bdde79a800928a8f36ec0731c02320e043eb69f72e4069224/visualization-0.1.4-py3-none-any.whl\n",
            "Requirement already satisfied: numpy in /usr/local/lib/python3.6/dist-packages (from visualization) (1.19.5)\n",
            "Collecting matplotlib<=2.2.0\n",
            "\u001b[?25l  Downloading https://files.pythonhosted.org/packages/95/09/530909669df3503caf1558544054fdbe2922d1f88a0a27820ee652c4fc58/matplotlib-2.2.0-cp36-cp36m-manylinux1_x86_64.whl (12.5MB)\n",
            "\u001b[K     |████████████████████████████████| 12.5MB 11.7MB/s \n",
            "\u001b[?25hCollecting autolab-perception\n",
            "\u001b[?25l  Downloading https://files.pythonhosted.org/packages/30/86/e06b468e8bf9ef8aeb39eacd7a41a10345c2fa00e547b627b74175e60b0c/autolab_perception-0.0.8-py3-none-any.whl (82kB)\n",
            "\u001b[K     |████████████████████████████████| 92kB 7.4MB/s \n",
            "\u001b[?25hRequirement already satisfied: imageio in /usr/local/lib/python3.6/dist-packages (from visualization) (2.4.1)\n",
            "Collecting trimesh[easy]\n",
            "\u001b[?25l  Downloading https://files.pythonhosted.org/packages/85/5b/b971412e6be76e4745973002d2a90ff7e9ed084a363aac690d8e4ed4b2a4/trimesh-3.9.7-py3-none-any.whl (629kB)\n",
            "\u001b[K     |████████████████████████████████| 634kB 18.0MB/s \n",
            "\u001b[?25hCollecting pyrender\n",
            "\u001b[?25l  Downloading https://files.pythonhosted.org/packages/28/88/174c28b9d3d03cf6d8edb6f637458f30f1cf1a2bd7a617cbd9dadb1740f6/pyrender-0.1.45-py3-none-any.whl (1.2MB)\n",
            "\u001b[K     |████████████████████████████████| 1.2MB 19.2MB/s \n",
            "\u001b[?25hCollecting autolab-core\n",
            "\u001b[?25l  Downloading https://files.pythonhosted.org/packages/68/b9/574cbaabf83153a601b9235923e428eb14a4d739565370d9cc58798d3a5d/autolab_core-0.0.14-py3-none-any.whl (73kB)\n",
            "\u001b[K     |████████████████████████████████| 81kB 7.7MB/s \n",
            "\u001b[?25hRequirement already satisfied: kiwisolver>=1.0.1 in /usr/local/lib/python3.6/dist-packages (from matplotlib<=2.2.0->visualization) (1.3.1)\n",
            "Requirement already satisfied: pytz in /usr/local/lib/python3.6/dist-packages (from matplotlib<=2.2.0->visualization) (2018.9)\n",
            "Requirement already satisfied: six>=1.10 in /usr/local/lib/python3.6/dist-packages (from matplotlib<=2.2.0->visualization) (1.15.0)\n",
            "Requirement already satisfied: python-dateutil>=2.1 in /usr/local/lib/python3.6/dist-packages (from matplotlib<=2.2.0->visualization) (2.8.1)\n",
            "Requirement already satisfied: cycler>=0.10 in /usr/local/lib/python3.6/dist-packages (from matplotlib<=2.2.0->visualization) (0.10.0)\n",
            "Requirement already satisfied: pyparsing!=2.0.4,!=2.1.2,!=2.1.6,>=2.0.1 in /usr/local/lib/python3.6/dist-packages (from matplotlib<=2.2.0->visualization) (2.4.7)\n",
            "Requirement already satisfied: opencv-python in /usr/local/lib/python3.6/dist-packages (from autolab-perception->visualization) (4.1.2.30)\n",
            "Requirement already satisfied: scikit-learn in /usr/local/lib/python3.6/dist-packages (from autolab-perception->visualization) (0.22.2.post1)\n",
            "Requirement already satisfied: scipy in /usr/local/lib/python3.6/dist-packages (from autolab-perception->visualization) (1.4.1)\n",
            "Requirement already satisfied: multiprocess in /usr/local/lib/python3.6/dist-packages (from autolab-perception->visualization) (0.70.11.1)\n",
            "Requirement already satisfied: Pillow in /usr/local/lib/python3.6/dist-packages (from autolab-perception->visualization) (7.0.0)\n",
            "Requirement already satisfied: ipython==5.5.0 in /usr/local/lib/python3.6/dist-packages (from autolab-perception->visualization) (5.5.0)\n",
            "Collecting pyserial>=3.4\n",
            "\u001b[?25l  Downloading https://files.pythonhosted.org/packages/07/bc/587a445451b253b285629263eb51c2d8e9bcea4fc97826266d186f96f558/pyserial-3.5-py2.py3-none-any.whl (90kB)\n",
            "\u001b[K     |████████████████████████████████| 92kB 7.9MB/s \n",
            "\u001b[?25hRequirement already satisfied: scikit-image in /usr/local/lib/python3.6/dist-packages (from autolab-perception->visualization) (0.16.2)\n",
            "Collecting scikit-video\n",
            "\u001b[?25l  Downloading https://files.pythonhosted.org/packages/b1/a6/c69cad508139a342810ae46e946ebb3256aa6e42f690d901bb68f50582e3/scikit_video-1.1.11-py2.py3-none-any.whl (2.3MB)\n",
            "\u001b[K     |████████████████████████████████| 2.3MB 20.7MB/s \n",
            "\u001b[?25hRequirement already satisfied: keras in /usr/local/lib/python3.6/dist-packages (from autolab-perception->visualization) (2.4.3)\n",
            "Collecting ffmpeg-python\n",
            "  Downloading https://files.pythonhosted.org/packages/d7/0c/56be52741f75bad4dc6555991fabd2e07b432d333da82c11ad701123888a/ffmpeg_python-0.2.0-py3-none-any.whl\n",
            "Requirement already satisfied: setuptools in /usr/local/lib/python3.6/dist-packages (from trimesh[easy]->visualization) (53.0.0)\n",
            "Requirement already satisfied: networkx; extra == \"easy\" in /usr/local/lib/python3.6/dist-packages (from trimesh[easy]->visualization) (2.5)\n",
            "Requirement already satisfied: chardet; extra == \"easy\" in /usr/local/lib/python3.6/dist-packages (from trimesh[easy]->visualization) (3.0.4)\n",
            "Requirement already satisfied: requests; extra == \"easy\" in /usr/local/lib/python3.6/dist-packages (from trimesh[easy]->visualization) (2.23.0)\n",
            "Collecting svg.path; extra == \"easy\"\n",
            "  Downloading https://files.pythonhosted.org/packages/d8/ba/d3af96c562e2e3641da0af008e4382f528f13dc82e474a065e1092b015f1/svg.path-4.1-py2.py3-none-any.whl\n",
            "Requirement already satisfied: lxml; extra == \"easy\" in /usr/local/lib/python3.6/dist-packages (from trimesh[easy]->visualization) (4.2.6)\n",
            "Collecting colorlog; extra == \"easy\"\n",
            "  Downloading https://files.pythonhosted.org/packages/5e/39/0230290df0519d528d8d0ffdfd900150ed24e0076d13b1f19e279444aab1/colorlog-4.7.2-py2.py3-none-any.whl\n",
            "Requirement already satisfied: jsonschema; extra == \"easy\" in /usr/local/lib/python3.6/dist-packages (from trimesh[easy]->visualization) (2.6.0)\n",
            "Requirement already satisfied: shapely; extra == \"easy\" in /usr/local/lib/python3.6/dist-packages (from trimesh[easy]->visualization) (1.7.1)\n",
            "Collecting rtree; extra == \"easy\"\n",
            "\u001b[?25l  Downloading https://files.pythonhosted.org/packages/1f/f4/0d893e8fa281d370c728dc42dc457f4f6128ea4a96a98442eb20755daee6/Rtree-0.9.7-cp36-cp36m-manylinux2010_x86_64.whl (994kB)\n",
            "\u001b[K     |████████████████████████████████| 1.0MB 23.5MB/s \n",
            "\u001b[?25hRequirement already satisfied: msgpack; extra == \"easy\" in /usr/local/lib/python3.6/dist-packages (from trimesh[easy]->visualization) (1.0.2)\n",
            "Requirement already satisfied: pyglet; extra == \"easy\" in /usr/local/lib/python3.6/dist-packages (from trimesh[easy]->visualization) (1.5.0)\n",
            "Requirement already satisfied: sympy; extra == \"easy\" in /usr/local/lib/python3.6/dist-packages (from trimesh[easy]->visualization) (1.1.1)\n",
            "Collecting pycollada; extra == \"easy\"\n",
            "\u001b[?25l  Downloading https://files.pythonhosted.org/packages/50/44/d775b312fc2e04cdd80e978f9b3422efe0946b285f1845e66a65f9aa371a/pycollada-0.7.1.tar.gz (105kB)\n",
            "\u001b[K     |████████████████████████████████| 112kB 22.5MB/s \n",
            "\u001b[?25hCollecting xxhash; extra == \"easy\"\n",
            "\u001b[?25l  Downloading https://files.pythonhosted.org/packages/f7/73/826b19f3594756cb1c6c23d2fbd8ca6a77a9cd3b650c9dec5acc85004c38/xxhash-2.0.0-cp36-cp36m-manylinux2010_x86_64.whl (242kB)\n",
            "\u001b[K     |████████████████████████████████| 245kB 17.7MB/s \n",
            "\u001b[?25hCollecting freetype-py\n",
            "\u001b[?25l  Downloading https://files.pythonhosted.org/packages/40/b5/56751e13f8b4a42f52c1b85ecce1446f83245190d820b42748eb8574ae43/freetype_py-2.2.0-py3-none-manylinux1_x86_64.whl (890kB)\n",
            "\u001b[K     |████████████████████████████████| 890kB 13.4MB/s \n",
            "\u001b[?25hCollecting PyOpenGL==3.1.0\n",
            "\u001b[?25l  Downloading https://files.pythonhosted.org/packages/9c/1d/4544708aaa89f26c97cc09450bb333a23724a320923e74d73e028b3560f9/PyOpenGL-3.1.0.tar.gz (1.2MB)\n",
            "\u001b[K     |████████████████████████████████| 1.2MB 24.0MB/s \n",
            "\u001b[?25hRequirement already satisfied: joblib in /usr/local/lib/python3.6/dist-packages (from autolab-core->visualization) (1.0.0)\n",
            "Collecting ruamel.yaml\n",
            "\u001b[?25l  Downloading https://files.pythonhosted.org/packages/7e/39/186f14f3836ac5d2a6a042c8de69988770e8b9abb537610edc429e4914aa/ruamel.yaml-0.16.12-py2.py3-none-any.whl (111kB)\n",
            "\u001b[K     |████████████████████████████████| 112kB 16.1MB/s \n",
            "\u001b[?25hCollecting setproctitle\n",
            "  Downloading https://files.pythonhosted.org/packages/bb/7e/9b3683a42e3aa7cba8364149fd12be1a17c8d0b5cf3f587320b86e5e0248/setproctitle-1.2.2-cp36-cp36m-manylinux1_x86_64.whl\n",
            "Requirement already satisfied: dill>=0.3.3 in /usr/local/lib/python3.6/dist-packages (from multiprocess->autolab-perception->visualization) (0.3.3)\n",
            "Requirement already satisfied: prompt-toolkit<2.0.0,>=1.0.4 in /usr/local/lib/python3.6/dist-packages (from ipython==5.5.0->autolab-perception->visualization) (1.0.18)\n",
            "Requirement already satisfied: decorator in /usr/local/lib/python3.6/dist-packages (from ipython==5.5.0->autolab-perception->visualization) (4.4.2)\n",
            "Requirement already satisfied: pexpect; sys_platform != \"win32\" in /usr/local/lib/python3.6/dist-packages (from ipython==5.5.0->autolab-perception->visualization) (4.8.0)\n",
            "Requirement already satisfied: traitlets>=4.2 in /usr/local/lib/python3.6/dist-packages (from ipython==5.5.0->autolab-perception->visualization) (4.3.3)\n",
            "Requirement already satisfied: simplegeneric>0.8 in /usr/local/lib/python3.6/dist-packages (from ipython==5.5.0->autolab-perception->visualization) (0.8.1)\n",
            "Requirement already satisfied: pickleshare in /usr/local/lib/python3.6/dist-packages (from ipython==5.5.0->autolab-perception->visualization) (0.7.5)\n",
            "Requirement already satisfied: pygments in /usr/local/lib/python3.6/dist-packages (from ipython==5.5.0->autolab-perception->visualization) (2.6.1)\n",
            "Requirement already satisfied: PyWavelets>=0.4.0 in /usr/local/lib/python3.6/dist-packages (from scikit-image->autolab-perception->visualization) (1.1.1)\n",
            "Requirement already satisfied: h5py in /usr/local/lib/python3.6/dist-packages (from keras->autolab-perception->visualization) (2.10.0)\n",
            "Requirement already satisfied: pyyaml in /usr/local/lib/python3.6/dist-packages (from keras->autolab-perception->visualization) (3.13)\n",
            "Requirement already satisfied: future in /usr/local/lib/python3.6/dist-packages (from ffmpeg-python->autolab-perception->visualization) (0.16.0)\n",
            "Requirement already satisfied: idna<3,>=2.5 in /usr/local/lib/python3.6/dist-packages (from requests; extra == \"easy\"->trimesh[easy]->visualization) (2.10)\n",
            "Requirement already satisfied: certifi>=2017.4.17 in /usr/local/lib/python3.6/dist-packages (from requests; extra == \"easy\"->trimesh[easy]->visualization) (2020.12.5)\n",
            "Requirement already satisfied: urllib3!=1.25.0,!=1.25.1,<1.26,>=1.21.1 in /usr/local/lib/python3.6/dist-packages (from requests; extra == \"easy\"->trimesh[easy]->visualization) (1.24.3)\n",
            "Requirement already satisfied: mpmath>=0.19 in /usr/local/lib/python3.6/dist-packages (from sympy; extra == \"easy\"->trimesh[easy]->visualization) (1.1.0)\n",
            "Collecting ruamel.yaml.clib>=0.1.2; platform_python_implementation == \"CPython\" and python_version < \"3.9\"\n",
            "\u001b[?25l  Downloading https://files.pythonhosted.org/packages/88/ff/ec25dc01ef04232a9e68ff18492e37dfa01f1f58172e702ad4f38536d41b/ruamel.yaml.clib-0.2.2-cp36-cp36m-manylinux1_x86_64.whl (549kB)\n",
            "\u001b[K     |████████████████████████████████| 552kB 27.2MB/s \n",
            "\u001b[?25hRequirement already satisfied: wcwidth in /usr/local/lib/python3.6/dist-packages (from prompt-toolkit<2.0.0,>=1.0.4->ipython==5.5.0->autolab-perception->visualization) (0.2.5)\n",
            "Requirement already satisfied: ptyprocess>=0.5 in /usr/local/lib/python3.6/dist-packages (from pexpect; sys_platform != \"win32\"->ipython==5.5.0->autolab-perception->visualization) (0.7.0)\n",
            "Requirement already satisfied: ipython-genutils in /usr/local/lib/python3.6/dist-packages (from traitlets>=4.2->ipython==5.5.0->autolab-perception->visualization) (0.2.0)\n",
            "Building wheels for collected packages: pycollada, PyOpenGL\n",
            "  Building wheel for pycollada (setup.py) ... \u001b[?25l\u001b[?25hdone\n",
            "  Created wheel for pycollada: filename=pycollada-0.7.1-cp36-none-any.whl size=125609 sha256=668c076c99b15b78d606fe710525679482fec0e083315904ae6fc983e62d2016\n",
            "  Stored in directory: /root/.cache/pip/wheels/b0/5d/2a/e6af10b1976334ef7bdea943abff28254b6431bca2b0f18bbc\n",
            "  Building wheel for PyOpenGL (setup.py) ... \u001b[?25l\u001b[?25hdone\n",
            "  Created wheel for PyOpenGL: filename=PyOpenGL-3.1.0-cp36-none-any.whl size=1745212 sha256=4d6d7030ff50fa49590afd69cd217a5e44465a75dcf1e8848f9ca160dd4c7eee\n",
            "  Stored in directory: /root/.cache/pip/wheels/6c/00/7f/1dd736f380848720ad79a1a1de5272e0d3f79c15a42968fb58\n",
            "Successfully built pycollada PyOpenGL\n",
            "\u001b[31mERROR: plotnine 0.6.0 has requirement matplotlib>=3.1.1, but you'll have matplotlib 2.2.0 which is incompatible.\u001b[0m\n",
            "\u001b[31mERROR: mizani 0.6.0 has requirement matplotlib>=3.1.1, but you'll have matplotlib 2.2.0 which is incompatible.\u001b[0m\n",
            "\u001b[31mERROR: albumentations 0.1.12 has requirement imgaug<0.2.7,>=0.2.5, but you'll have imgaug 0.2.9 which is incompatible.\u001b[0m\n",
            "Installing collected packages: matplotlib, colorlog, ruamel.yaml.clib, ruamel.yaml, setproctitle, autolab-core, pyserial, scikit-video, ffmpeg-python, autolab-perception, svg.path, rtree, pycollada, xxhash, trimesh, freetype-py, PyOpenGL, pyrender, visualization\n",
            "  Found existing installation: matplotlib 3.2.2\n",
            "    Uninstalling matplotlib-3.2.2:\n",
            "      Successfully uninstalled matplotlib-3.2.2\n",
            "  Found existing installation: PyOpenGL 3.1.5\n",
            "    Uninstalling PyOpenGL-3.1.5:\n",
            "      Successfully uninstalled PyOpenGL-3.1.5\n",
            "Successfully installed PyOpenGL-3.1.0 autolab-core-0.0.14 autolab-perception-0.0.8 colorlog-4.7.2 ffmpeg-python-0.2.0 freetype-py-2.2.0 matplotlib-2.2.0 pycollada-0.7.1 pyrender-0.1.45 pyserial-3.5 rtree-0.9.7 ruamel.yaml-0.16.12 ruamel.yaml.clib-0.2.2 scikit-video-1.1.11 setproctitle-1.2.2 svg.path-4.1 trimesh-3.9.7 visualization-0.1.4 xxhash-2.0.0\n"
          ],
          "name": "stdout"
        },
        {
          "output_type": "display_data",
          "data": {
            "application/vnd.colab-display-data+json": {
              "pip_warning": {
                "packages": [
                  "matplotlib",
                  "mpl_toolkits"
                ]
              }
            }
          },
          "metadata": {
            "tags": []
          }
        }
      ]
    },
    {
      "cell_type": "code",
      "metadata": {
        "colab": {
          "base_uri": "https://localhost:8080/"
        },
        "id": "d2sI-CIWFd_z",
        "outputId": "e0c7e94f-76ce-472f-dd41-305d3e8c38a7"
      },
      "source": [
        "pip install python-utils"
      ],
      "execution_count": null,
      "outputs": [
        {
          "output_type": "stream",
          "text": [
            "Requirement already satisfied: python-utils in /usr/local/lib/python3.6/dist-packages (2.5.6)\n",
            "Requirement already satisfied: six in /usr/local/lib/python3.6/dist-packages (from python-utils) (1.15.0)\n"
          ],
          "name": "stdout"
        }
      ]
    },
    {
      "cell_type": "code",
      "metadata": {
        "id": "JtfQPNb5Echs"
      },
      "source": [
        "from importlib import reload  # Python 3.4+ only.\r\n"
      ],
      "execution_count": null,
      "outputs": []
    },
    {
      "cell_type": "code",
      "metadata": {
        "colab": {
          "base_uri": "https://localhost:8080/"
        },
        "id": "gcXtgaCFF9gV",
        "outputId": "883f1d30-6c8a-4bf6-d5eb-519c09d02597"
      },
      "source": [
        "pip install utils"
      ],
      "execution_count": null,
      "outputs": [
        {
          "output_type": "stream",
          "text": [
            "Collecting utils\n",
            "  Downloading https://files.pythonhosted.org/packages/55/e6/c2d2b2703e7debc8b501caae0e6f7ead148fd0faa3c8131292a599930029/utils-1.0.1-py2.py3-none-any.whl\n",
            "Installing collected packages: utils\n",
            "Successfully installed utils-1.0.1\n"
          ],
          "name": "stdout"
        }
      ]
    },
    {
      "cell_type": "code",
      "metadata": {
        "colab": {
          "base_uri": "https://localhost:8080/",
          "height": 350
        },
        "id": "Udp8SRGVFaTX",
        "outputId": "2320b9c2-a569-400a-d3a5-0f63785fc3ef"
      },
      "source": [
        "\r\n",
        "from importlib import reload  # Python 3.4+ only.\r\n",
        "import visualization_utils  as vu\r\n",
        "reload(vu)"
      ],
      "execution_count": null,
      "outputs": [
        {
          "output_type": "error",
          "ename": "ModuleNotFoundError",
          "evalue": "ignored",
          "traceback": [
            "\u001b[0;31m---------------------------------------------------------------------------\u001b[0m",
            "\u001b[0;31mModuleNotFoundError\u001b[0m                       Traceback (most recent call last)",
            "\u001b[0;32m<ipython-input-28-f49d4634e381>\u001b[0m in \u001b[0;36m<module>\u001b[0;34m()\u001b[0m\n\u001b[1;32m      1\u001b[0m \u001b[0;34m\u001b[0m\u001b[0m\n\u001b[1;32m      2\u001b[0m \u001b[0;32mfrom\u001b[0m \u001b[0mimportlib\u001b[0m \u001b[0;32mimport\u001b[0m \u001b[0mreload\u001b[0m  \u001b[0;31m# Python 3.4+ only.\u001b[0m\u001b[0;34m\u001b[0m\u001b[0;34m\u001b[0m\u001b[0m\n\u001b[0;32m----> 3\u001b[0;31m \u001b[0;32mimport\u001b[0m \u001b[0mvisualization_utils\u001b[0m  \u001b[0;32mas\u001b[0m \u001b[0mvu\u001b[0m\u001b[0;34m\u001b[0m\u001b[0;34m\u001b[0m\u001b[0m\n\u001b[0m\u001b[1;32m      4\u001b[0m \u001b[0mreload\u001b[0m\u001b[0;34m(\u001b[0m\u001b[0mvu\u001b[0m\u001b[0;34m)\u001b[0m\u001b[0;34m\u001b[0m\u001b[0;34m\u001b[0m\u001b[0m\n",
            "\u001b[0;31mModuleNotFoundError\u001b[0m: No module named 'visualization_utils'",
            "",
            "\u001b[0;31m---------------------------------------------------------------------------\u001b[0;32m\nNOTE: If your import is failing due to a missing package, you can\nmanually install dependencies using either !pip or !apt.\n\nTo view examples of installing some common dependencies, click the\n\"Open Examples\" button below.\n\u001b[0;31m---------------------------------------------------------------------------\u001b[0m\n"
          ]
        }
      ]
    },
    {
      "cell_type": "code",
      "metadata": {
        "colab": {
          "base_uri": "https://localhost:8080/",
          "height": 163
        },
        "id": "p0HfG3LjEsP0",
        "outputId": "9b896f4f-94e7-4ca1-b916-58e29edfc5eb"
      },
      "source": [
        "vu.show_n_images(np_img[:,100,:,:], titles=img_type)"
      ],
      "execution_count": null,
      "outputs": [
        {
          "output_type": "error",
          "ename": "AttributeError",
          "evalue": "ignored",
          "traceback": [
            "\u001b[0;31m---------------------------------------------------------------------------\u001b[0m",
            "\u001b[0;31mAttributeError\u001b[0m                            Traceback (most recent call last)",
            "\u001b[0;32m<ipython-input-18-3364b66a5333>\u001b[0m in \u001b[0;36m<module>\u001b[0;34m()\u001b[0m\n\u001b[0;32m----> 1\u001b[0;31m \u001b[0mvu\u001b[0m\u001b[0;34m.\u001b[0m\u001b[0mshow_n_images\u001b[0m\u001b[0;34m(\u001b[0m\u001b[0mnp_img\u001b[0m\u001b[0;34m[\u001b[0m\u001b[0;34m:\u001b[0m\u001b[0;34m,\u001b[0m\u001b[0;36m100\u001b[0m\u001b[0;34m,\u001b[0m\u001b[0;34m:\u001b[0m\u001b[0;34m,\u001b[0m\u001b[0;34m:\u001b[0m\u001b[0;34m]\u001b[0m\u001b[0;34m,\u001b[0m \u001b[0mtitles\u001b[0m\u001b[0;34m=\u001b[0m\u001b[0mimg_type\u001b[0m\u001b[0;34m)\u001b[0m\u001b[0;34m\u001b[0m\u001b[0;34m\u001b[0m\u001b[0m\n\u001b[0m",
            "\u001b[0;31mAttributeError\u001b[0m: module 'visualization' has no attribute 'show_n_images'"
          ]
        }
      ]
    },
    {
      "cell_type": "code",
      "metadata": {
        "id": "b4PDtGupEE-a"
      },
      "source": [
        ""
      ],
      "execution_count": null,
      "outputs": []
    }
  ]
}